{
 "cells": [
  {
   "cell_type": "markdown",
   "metadata": {},
   "source": [
    "# Predicting Austrailian Rain"
   ]
  },
  {
   "cell_type": "code",
   "execution_count": 54,
   "metadata": {},
   "outputs": [],
   "source": [
    "#import libraries and format output\n",
    "import pandas as pd\n",
    "import numpy as np\n",
    "import matplotlib.pyplot as plt\n",
    "import seaborn as sns\n",
    "import matplotlib.pyplot as plt\n",
    "from sklearn.neighbors import KNeighborsClassifier\n",
    "from sklearn.model_selection import train_test_split, GridSearchCV\n",
    "from sklearn.ensemble import RandomForestClassifier\n",
    "from sklearn.pipeline import Pipeline\n",
    "from sklearn.preprocessing import StandardScaler\n",
    "from sklearn.compose import ColumnTransformer\n",
    "from sklearn.metrics import recall_score, accuracy_score, precision_score\n",
    "pd.set_option('display.max_columns',150)\n",
    "pd.set_option('display.max_rows',150)"
   ]
  },
  {
   "cell_type": "code",
   "execution_count": 3,
   "metadata": {},
   "outputs": [],
   "source": [
    "#import clean and feature engineered dataset\n",
    "import pickle\n",
    "\n",
    "with open('df_modeling.pickle', 'rb') as handle:\n",
    "    df_modeling = pickle.load(handle)"
   ]
  },
  {
   "cell_type": "markdown",
   "metadata": {},
   "source": [
    "## Modeling"
   ]
  },
  {
   "cell_type": "markdown",
   "metadata": {},
   "source": [
    "### KNN"
   ]
  },
  {
   "cell_type": "code",
   "execution_count": 4,
   "metadata": {},
   "outputs": [],
   "source": [
    "X = df_modeling.drop(columns = ['Date','RainTomorrow'])\n",
    "y = df_modeling['RainTomorrow']\n",
    "X_train, X_test, y_train, y_test = train_test_split(X, y, test_size = 0.3, random_state = 24)"
   ]
  },
  {
   "cell_type": "code",
   "execution_count": 8,
   "metadata": {},
   "outputs": [],
   "source": [
    "#only scale non binary columns\n",
    "base_ct = ColumnTransformer([\n",
    "        ('base_transform', StandardScaler(), continuous_features)\n",
    "    ], remainder='passthrough')\n",
    "\n",
    "base_ct.fit(X_train)\n",
    "X_train_base_scaled = pd.DataFrame(data=base_ct.transform(X_train), columns = X_train.columns, index = X_train.index)\n",
    "X_test_base_scaled = pd.DataFrame(data=base_ct.transform(X_test), columns = X_test.columns, index = X_test.index)"
   ]
  },
  {
   "cell_type": "code",
   "execution_count": 74,
   "metadata": {},
   "outputs": [],
   "source": [
    "scaled_pipeline_1 = Pipeline([('ct', ColumnTransformer([('base_transform', StandardScaler(), continuous_features)], remainder='passthrough')), \n",
    "                              ('knn', KNeighborsClassifier(n_jobs = -1)),],\n",
    "                             verbose = True\n",
    "                            )"
   ]
  },
  {
   "cell_type": "code",
   "execution_count": 75,
   "metadata": {
    "scrolled": true
   },
   "outputs": [
    {
     "name": "stdout",
     "output_type": "stream",
     "text": [
      "[Pipeline] ................ (step 1 of 2) Processing ct, total=   0.1s\n",
      "[Pipeline] ............... (step 2 of 2) Processing knn, total=   5.2s\n"
     ]
    },
    {
     "data": {
      "text/plain": [
       "Pipeline(steps=[('ct',\n",
       "                 ColumnTransformer(remainder='passthrough',\n",
       "                                   transformers=[('base_transform',\n",
       "                                                  StandardScaler(),\n",
       "                                                  ['MinTemp', 'MaxTemp',\n",
       "                                                   'Rainfall', 'Evaporation',\n",
       "                                                   'Sunshine', 'WindGustSpeed',\n",
       "                                                   'WindSpeed9am',\n",
       "                                                   'WindSpeed3pm',\n",
       "                                                   'Humidity9am', 'Humidity3pm',\n",
       "                                                   'Latitude', 'Longitude',\n",
       "                                                   'Avg_Pressure'])])),\n",
       "                ('knn', KNeighborsClassifier(n_jobs=-1))],\n",
       "         verbose=True)"
      ]
     },
     "execution_count": 75,
     "metadata": {},
     "output_type": "execute_result"
    }
   ],
   "source": [
    "# Fit the training data to pipeline\n",
    "scaled_pipeline_1.fit(X_train, y_train)"
   ]
  },
  {
   "cell_type": "code",
   "execution_count": 76,
   "metadata": {},
   "outputs": [],
   "source": [
    "y_train_preds_base = scaled_pipeline_1.predict(X_train)\n",
    "y_test_preds_base = scaled_pipeline_1.predict(X_test)"
   ]
  },
  {
   "cell_type": "code",
   "execution_count": 77,
   "metadata": {},
   "outputs": [
    {
     "name": "stdout",
     "output_type": "stream",
     "text": [
      "Training recall (base model): 0.6067851664711721\n",
      "Test recall (base model): 0.4990731204943357\n"
     ]
    }
   ],
   "source": [
    "train_recall_base = recall_score(y_train, y_train_preds_base)\n",
    "test_recall_base = recall_score(y_test, y_test_preds_base)\n",
    "print(f'Training recall (base model): {train_recall_base}')\n",
    "print(f'Test recall (base model): {test_recall_base}')"
   ]
  },
  {
   "cell_type": "markdown",
   "metadata": {},
   "source": [
    "Our base model didn't preform that well. There's a lot of things that need to be optimized yet and we still\n",
    "have a class imbalance. You can tell that we are overfiting to our data quite a bit. This is probably due to our class imbalance."
   ]
  },
  {
   "cell_type": "markdown",
   "metadata": {},
   "source": [
    "### LogReg DownSampling"
   ]
  },
  {
   "cell_type": "code",
   "execution_count": 156,
   "metadata": {
    "scrolled": true
   },
   "outputs": [],
   "source": [
    "from sklearn.utils import resample\n",
    "\n",
    "#combine training x and y to one df\n",
    "training = pd.concat([X_train_base_scaled, y_train], axis = 1)\n",
    "# downsample majority\n",
    "minority = training[training['RainTomorrow'] == 1]\n",
    "majority = training[training['RainTomorrow'] == 0]\n",
    "no_rain_downsampled = resample(majority,\n",
    "                                replace = False, # sample without replacement\n",
    "                                n_samples = len(minority), # match minority n\n",
    "                                random_state = 23) # reproducible results"
   ]
  },
  {
   "cell_type": "code",
   "execution_count": 157,
   "metadata": {},
   "outputs": [
    {
     "data": {
      "text/plain": [
       "1    22166\n",
       "0    22166\n",
       "Name: RainTomorrow, dtype: int64"
      ]
     },
     "execution_count": 157,
     "metadata": {},
     "output_type": "execute_result"
    }
   ],
   "source": [
    "# combine minority and downsampled majority\n",
    "downsampled = pd.concat([no_rain_downsampled, minority])\n",
    "\n",
    "# checking counts\n",
    "downsampled.RainTomorrow.value_counts()"
   ]
  },
  {
   "cell_type": "code",
   "execution_count": 158,
   "metadata": {},
   "outputs": [
    {
     "name": "stdout",
     "output_type": "stream",
     "text": [
      "Training recall (downsampled LogReg):  0.781512225931607\n",
      "Testing recall (downsampled LogReg):  0.7826982492276005\n"
     ]
    }
   ],
   "source": [
    "from sklearn.linear_model import LogisticRegression\n",
    "# trying logistic regression with downsampled dataset\n",
    "y_train_downsampled = downsampled.RainTomorrow\n",
    "X_train_downsampled = downsampled.drop(columns = 'RainTomorrow')\n",
    "\n",
    "\n",
    "downsampled_lr = LogisticRegression(solver='liblinear')\n",
    "\n",
    "\n",
    "downsampled_lr.fit(X_train_downsampled, y_train_downsampled)\n",
    "\n",
    "downsampled_train_preds = downsampled_lr.predict(X_train_downsampled)\n",
    "\n",
    "downsampled_test_preds = downsampled_lr.predict(X_test_base_scaled)\n",
    "\n",
    "# checking recall\n",
    "print('Training recall (downsampled LogReg): ', recall_score(y_train_downsampled, downsampled_train_preds))\n",
    "\n",
    "# checking recall\n",
    "print('Testing recall (downsampled LogReg): ', recall_score(y_test, downsampled_test_preds))"
   ]
  },
  {
   "cell_type": "markdown",
   "metadata": {},
   "source": [
    "We can see that this clearly preformed way better. This is good. It is also not overfitting. Let's see if smote improves this."
   ]
  },
  {
   "cell_type": "markdown",
   "metadata": {},
   "source": [
    "### LogReg SMOTE"
   ]
  },
  {
   "cell_type": "code",
   "execution_count": 81,
   "metadata": {},
   "outputs": [],
   "source": [
    "from imblearn.over_sampling import SMOTE\n",
    "\n",
    "sm_base = SMOTE(random_state=55)\n",
    "X_train_smote, y_train_smote = sm_base.fit_sample(X_train_base_scaled, y_train)"
   ]
  },
  {
   "cell_type": "code",
   "execution_count": 82,
   "metadata": {},
   "outputs": [
    {
     "data": {
      "text/plain": [
       "1    77364\n",
       "0    77364\n",
       "Name: RainTomorrow, dtype: int64"
      ]
     },
     "execution_count": 82,
     "metadata": {},
     "output_type": "execute_result"
    }
   ],
   "source": [
    "y_train_smote.value_counts()"
   ]
  },
  {
   "cell_type": "code",
   "execution_count": 83,
   "metadata": {},
   "outputs": [
    {
     "name": "stdout",
     "output_type": "stream",
     "text": [
      "Training recall (SMOTE LogReg):  0.7877695051962152\n",
      "Testing recall (SMOTE LogReg):  0.782389289392379\n"
     ]
    }
   ],
   "source": [
    "# trying logistic regression with smote dataset\n",
    "smote_lr = LogisticRegression(solver='liblinear')\n",
    "\n",
    "smote_lr.fit(X_train_smote, y_train_smote)\n",
    "\n",
    "smote_train_preds = smote_lr.predict(X_train_smote)\n",
    "\n",
    "smote_test_preds = smote_lr.predict(X_test_base_scaled)\n",
    "\n",
    "# checking recall\n",
    "print('Training recall (SMOTE LogReg): ', recall_score(y_train_smote, smote_train_preds))\n",
    "\n",
    "# checking recall\n",
    "print('Testing recall (SMOTE LogReg): ', recall_score(y_test, smote_test_preds))"
   ]
  },
  {
   "cell_type": "markdown",
   "metadata": {},
   "source": [
    "SMOTE was not necessarily and improvement. This model is close to the other one, but overfits a little bit. Let's see if a mixture of both will help"
   ]
  },
  {
   "cell_type": "markdown",
   "metadata": {},
   "source": [
    "### LogReg SMOTE and DownSampling"
   ]
  },
  {
   "cell_type": "code",
   "execution_count": 84,
   "metadata": {},
   "outputs": [],
   "source": [
    "no_rain_downsampled = resample(majority,\n",
    "                                replace = False, # sample without replacement\n",
    "                                n_samples = round((len(majority) - len(minority)) / 2) + len(minority), # match minority n\n",
    "                                random_state = 23) # reproducible results"
   ]
  },
  {
   "cell_type": "code",
   "execution_count": 85,
   "metadata": {},
   "outputs": [
    {
     "data": {
      "text/plain": [
       "0    49765\n",
       "1    22166\n",
       "Name: RainTomorrow, dtype: int64"
      ]
     },
     "execution_count": 85,
     "metadata": {},
     "output_type": "execute_result"
    }
   ],
   "source": [
    "# combine minority and partly downsampled majority\n",
    "partly_downsampled = pd.concat([no_rain_downsampled, minority])\n",
    "\n",
    "# checking counts\n",
    "partly_downsampled.RainTomorrow.value_counts()"
   ]
  },
  {
   "cell_type": "code",
   "execution_count": 86,
   "metadata": {},
   "outputs": [],
   "source": [
    "y_train__partly_downsampled = partly_downsampled.RainTomorrow\n",
    "X_train_partly_downsampled = partly_downsampled.drop(columns = 'RainTomorrow')\n",
    "\n",
    "sm_mix = SMOTE(random_state=55)\n",
    "X_train_mix, y_train_mix = sm_mix.fit_sample(X_train_partly_downsampled, y_train__partly_downsampled)"
   ]
  },
  {
   "cell_type": "code",
   "execution_count": 87,
   "metadata": {},
   "outputs": [
    {
     "data": {
      "text/plain": [
       "1    49765\n",
       "0    49765\n",
       "Name: RainTomorrow, dtype: int64"
      ]
     },
     "execution_count": 87,
     "metadata": {},
     "output_type": "execute_result"
    }
   ],
   "source": [
    "y_train_mix.value_counts()"
   ]
  },
  {
   "cell_type": "code",
   "execution_count": 88,
   "metadata": {},
   "outputs": [
    {
     "name": "stdout",
     "output_type": "stream",
     "text": [
      "Training recall (mix LogReg):  0.7862353059379081\n",
      "Testing recall (mix LogReg):  0.7817713697219362\n"
     ]
    }
   ],
   "source": [
    "mix_lr = LogisticRegression(solver='liblinear')\n",
    "\n",
    "mix_lr.fit(X_train_mix, y_train_mix)\n",
    "\n",
    "mix_train_preds = mix_lr.predict(X_train_mix)\n",
    "\n",
    "mix_test_preds = mix_lr.predict(X_test_base_scaled)\n",
    "\n",
    "# checking recall\n",
    "print('Training recall (mix LogReg): ', recall_score(y_train_mix, mix_train_preds))\n",
    "\n",
    "# checking recall\n",
    "print('Testing recall (mix LogReg): ', recall_score(y_test, mix_test_preds))"
   ]
  },
  {
   "cell_type": "markdown",
   "metadata": {},
   "source": [
    "This still didn't perform as well as downsampling. We will try one last option."
   ]
  },
  {
   "cell_type": "markdown",
   "metadata": {},
   "source": [
    "### Balanced Class Weights"
   ]
  },
  {
   "cell_type": "code",
   "execution_count": 159,
   "metadata": {
    "scrolled": true
   },
   "outputs": [
    {
     "name": "stdout",
     "output_type": "stream",
     "text": [
      "Training recall (balanced LogReg):  0.7823693945682577\n",
      "Testing recall (balanced LogReg):  0.7829042224510814\n"
     ]
    }
   ],
   "source": [
    "balanced_lr = LogisticRegression(solver='liblinear', class_weight='balanced')\n",
    "\n",
    "\n",
    "balanced_lr.fit(X_train_base_scaled, y_train)\n",
    "\n",
    "balanced_train_preds = balanced_lr.predict(X_train_base_scaled)\n",
    "\n",
    "balanced_test_preds = balanced_lr.predict(X_test_base_scaled)\n",
    "\n",
    "# checking recall\n",
    "print('Training recall (balanced LogReg): ', recall_score(y_train, balanced_train_preds))\n",
    "\n",
    "# checking recall\n",
    "print('Testing recall (balanced LogReg): ', recall_score(y_test, balanced_test_preds))"
   ]
  },
  {
   "cell_type": "markdown",
   "metadata": {},
   "source": [
    "This is barely worse than the downsampled method and we get to utlize a lot more observations, so we are going to use this model in our grid search."
   ]
  },
  {
   "cell_type": "markdown",
   "metadata": {},
   "source": [
    "### Balanced LogReg with GridSearch"
   ]
  },
  {
   "cell_type": "code",
   "execution_count": 90,
   "metadata": {},
   "outputs": [],
   "source": [
    "#define params\n",
    "params = [{'penalty': ['l1'], \n",
    "         'C': [0.001, 0.01, 0.1, 1], \n",
    "         'max_iter': [100, 500],\n",
    "         'warm_start': [True, False]\n",
    "        }]\n",
    "\n",
    "#initialize grid search\n",
    "gridsearch_balanced_lr = GridSearchCV(estimator=balanced_lr, \n",
    "                                      param_grid=params, \n",
    "                                      scoring='recall', \n",
    "                                      cv=10,\n",
    "                                      n_jobs = -1,\n",
    "                                      verbose = 2\n",
    "                                     )"
   ]
  },
  {
   "cell_type": "code",
   "execution_count": 91,
   "metadata": {
    "scrolled": true
   },
   "outputs": [
    {
     "name": "stdout",
     "output_type": "stream",
     "text": [
      "Fitting 10 folds for each of 16 candidates, totalling 160 fits\n"
     ]
    },
    {
     "name": "stderr",
     "output_type": "stream",
     "text": [
      "[Parallel(n_jobs=-1)]: Using backend LokyBackend with 8 concurrent workers.\n",
      "[Parallel(n_jobs=-1)]: Done  25 tasks      | elapsed:    4.2s\n",
      "[Parallel(n_jobs=-1)]: Done 160 out of 160 | elapsed: 29.4min finished\n"
     ]
    },
    {
     "data": {
      "text/plain": [
       "GridSearchCV(cv=10,\n",
       "             estimator=LogisticRegression(class_weight='balanced',\n",
       "                                          solver='liblinear'),\n",
       "             n_jobs=-1,\n",
       "             param_grid=[{'C': [0.001, 0.01, 0.1, 1], 'max_iter': [100, 500],\n",
       "                          'penalty': ['l1'], 'warm_start': [True, False]}],\n",
       "             scoring='recall', verbose=2)"
      ]
     },
     "execution_count": 91,
     "metadata": {},
     "output_type": "execute_result"
    }
   ],
   "source": [
    "gridsearch_balanced_lr.fit(X_train_base_scaled, y_train)"
   ]
  },
  {
   "cell_type": "code",
   "execution_count": 100,
   "metadata": {},
   "outputs": [
    {
     "data": {
      "text/plain": [
       "{'C': 1, 'max_iter': 100, 'penalty': 'l1', 'warm_start': False}"
      ]
     },
     "execution_count": 100,
     "metadata": {},
     "output_type": "execute_result"
    }
   ],
   "source": [
    "gridsearch_balanced_lr.best_params_"
   ]
  },
  {
   "cell_type": "code",
   "execution_count": 101,
   "metadata": {
    "scrolled": true
   },
   "outputs": [
    {
     "data": {
      "text/plain": [
       "0.7803847728986224"
      ]
     },
     "execution_count": 101,
     "metadata": {},
     "output_type": "execute_result"
    }
   ],
   "source": [
    "gridsearch_balanced_lr.best_score_"
   ]
  },
  {
   "cell_type": "code",
   "execution_count": 110,
   "metadata": {},
   "outputs": [],
   "source": [
    "balanced_grid_lr_preds = gridsearch_balanced_lr.predict(X_test_base_scaled)"
   ]
  },
  {
   "cell_type": "code",
   "execution_count": 112,
   "metadata": {},
   "outputs": [
    {
     "name": "stdout",
     "output_type": "stream",
     "text": [
      "Training recall (balanced l1 gridsearch LogReg):  0.7803847728986224\n",
      "Testing recall (balanced l1 gridsearch LogReg):  0.7828012358393409\n"
     ]
    }
   ],
   "source": [
    "# checking recall\n",
    "print('Training recall (balanced l1 gridsearch LogReg): ', gridsearch_balanced_lr.best_score_)\n",
    "\n",
    "# checking recall\n",
    "print('Testing recall (balanced l1 gridsearch LogReg): ', recall_score(y_test, balanced_grid_lr_preds))"
   ]
  },
  {
   "cell_type": "code",
   "execution_count": 94,
   "metadata": {},
   "outputs": [
    {
     "data": {
      "text/plain": [
       "139"
      ]
     },
     "execution_count": 94,
     "metadata": {},
     "output_type": "execute_result"
    }
   ],
   "source": [
    "X_train_base_scaled.shape[1]"
   ]
  },
  {
   "cell_type": "code",
   "execution_count": 163,
   "metadata": {},
   "outputs": [
    {
     "data": {
      "text/plain": [
       "SelectKBest(k=100)"
      ]
     },
     "execution_count": 163,
     "metadata": {},
     "output_type": "execute_result"
    }
   ],
   "source": [
    "from sklearn.feature_selection import SelectKBest, f_classif\n",
    "selector = SelectKBest(f_classif, k=100)\n",
    "\n",
    "selector.fit(X_train_base_scaled, y_train)"
   ]
  },
  {
   "cell_type": "code",
   "execution_count": 164,
   "metadata": {},
   "outputs": [],
   "source": [
    "selected_columns = X_train_base_scaled.columns[selector.get_support()]\n",
    "removed_columns = X_train_base_scaled.columns[~selector.get_support()]"
   ]
  },
  {
   "cell_type": "code",
   "execution_count": 160,
   "metadata": {},
   "outputs": [],
   "source": [
    "#define params\n",
    "params2 = [{'penalty': ['l2'], \n",
    "         'C': [0.1, 1], \n",
    "         'max_iter': [100, 500],\n",
    "         'warm_start': [True, False]\n",
    "        }]\n",
    "\n",
    "#initialize grid search\n",
    "gridsearch_balanced_lr2 = GridSearchCV(estimator=balanced_lr, \n",
    "                                      param_grid=params2, \n",
    "                                      scoring='recall', \n",
    "                                      cv=10,\n",
    "                                      n_jobs = -1,\n",
    "                                      verbose = 2\n",
    "                                     )"
   ]
  },
  {
   "cell_type": "code",
   "execution_count": 165,
   "metadata": {
    "scrolled": true
   },
   "outputs": [
    {
     "name": "stdout",
     "output_type": "stream",
     "text": [
      "Fitting 10 folds for each of 8 candidates, totalling 80 fits\n"
     ]
    },
    {
     "name": "stderr",
     "output_type": "stream",
     "text": [
      "[Parallel(n_jobs=-1)]: Using backend LokyBackend with 8 concurrent workers.\n",
      "[Parallel(n_jobs=-1)]: Done  25 tasks      | elapsed:   21.2s\n",
      "[Parallel(n_jobs=-1)]: Done  80 out of  80 | elapsed:   39.8s finished\n"
     ]
    },
    {
     "data": {
      "text/plain": [
       "GridSearchCV(cv=10,\n",
       "             estimator=LogisticRegression(class_weight='balanced',\n",
       "                                          solver='liblinear'),\n",
       "             n_jobs=-1,\n",
       "             param_grid=[{'C': [0.1, 1], 'max_iter': [100, 500],\n",
       "                          'penalty': ['l2'], 'warm_start': [True, False]}],\n",
       "             scoring='recall', verbose=2)"
      ]
     },
     "execution_count": 165,
     "metadata": {},
     "output_type": "execute_result"
    }
   ],
   "source": [
    "gridsearch_balanced_lr2.fit(X_train_base_scaled[selected_columns], y_train)"
   ]
  },
  {
   "cell_type": "code",
   "execution_count": 166,
   "metadata": {},
   "outputs": [
    {
     "data": {
      "text/plain": [
       "{'C': 1, 'max_iter': 100, 'penalty': 'l2', 'warm_start': True}"
      ]
     },
     "execution_count": 166,
     "metadata": {},
     "output_type": "execute_result"
    }
   ],
   "source": [
    "gridsearch_balanced_lr2.best_params_"
   ]
  },
  {
   "cell_type": "code",
   "execution_count": 167,
   "metadata": {
    "scrolled": true
   },
   "outputs": [
    {
     "data": {
      "text/plain": [
       "0.7789411977352555"
      ]
     },
     "execution_count": 167,
     "metadata": {},
     "output_type": "execute_result"
    }
   ],
   "source": [
    "gridsearch_balanced_lr2.best_score_"
   ]
  },
  {
   "cell_type": "code",
   "execution_count": 168,
   "metadata": {},
   "outputs": [],
   "source": [
    "balanced_grid_lr2_preds = gridsearch_balanced_lr2.predict(X_test_base_scaled[selected_columns])"
   ]
  },
  {
   "cell_type": "code",
   "execution_count": 169,
   "metadata": {},
   "outputs": [
    {
     "name": "stdout",
     "output_type": "stream",
     "text": [
      "Training recall (balanced l1 gridsearch LogReg):  0.7789411977352555\n",
      "Testing recall (balanced l1 gridsearch LogReg):  0.7833161688980432\n"
     ]
    }
   ],
   "source": [
    "# checking recall\n",
    "print('Training recall (balanced l1 gridsearch LogReg): ', gridsearch_balanced_lr2.best_score_)\n",
    "\n",
    "# checking recall\n",
    "print('Testing recall (balanced l1 gridsearch LogReg): ', recall_score(y_test, balanced_grid_lr2_preds))"
   ]
  },
  {
   "cell_type": "markdown",
   "metadata": {},
   "source": [
    "Grid search helped improve our logistic regressor slightly! Let's see if other types of models can improve our prediciton"
   ]
  },
  {
   "cell_type": "markdown",
   "metadata": {},
   "source": [
    "### Random Forest"
   ]
  },
  {
   "cell_type": "code",
   "execution_count": 9,
   "metadata": {},
   "outputs": [],
   "source": [
    "from sklearn.ensemble import RandomForestClassifier\n",
    "\n",
    "rand_for = RandomForestClassifier(random_state=30)"
   ]
  },
  {
   "cell_type": "code",
   "execution_count": 14,
   "metadata": {},
   "outputs": [],
   "source": [
    "#define params\n",
    "params_rand_for = [{'max_depth': range(1,11), \n",
    "         'min_samples_leaf': range(5,30,5), \n",
    "         'max_features': range(10,110,20),\n",
    "         'oob_score': [True, False],\n",
    "         'warm_start': [True],\n",
    "         'max_leaf_nodes': range(5,50,10)\n",
    "        }]\n",
    "\n",
    "#initialize grid search\n",
    "gridsearch_rand_for = GridSearchCV(estimator=rand_for, \n",
    "                                      param_grid=params_rand_for, \n",
    "                                      scoring='recall', \n",
    "                                      cv=5,\n",
    "                                      n_jobs = -1,\n",
    "                                      verbose = 2\n",
    "                                     )"
   ]
  },
  {
   "cell_type": "code",
   "execution_count": 15,
   "metadata": {
    "scrolled": true
   },
   "outputs": [
    {
     "name": "stdout",
     "output_type": "stream",
     "text": [
      "Fitting 5 folds for each of 2500 candidates, totalling 12500 fits\n"
     ]
    },
    {
     "name": "stderr",
     "output_type": "stream",
     "text": [
      "[Parallel(n_jobs=-1)]: Using backend LokyBackend with 8 concurrent workers.\n",
      "[Parallel(n_jobs=-1)]: Done  25 tasks      | elapsed:   12.0s\n",
      "[Parallel(n_jobs=-1)]: Done 146 tasks      | elapsed:  1.0min\n",
      "[Parallel(n_jobs=-1)]: Done 349 tasks      | elapsed:  2.9min\n",
      "[Parallel(n_jobs=-1)]: Done 632 tasks      | elapsed:  6.2min\n",
      "[Parallel(n_jobs=-1)]: Done 997 tasks      | elapsed: 11.5min\n",
      "[Parallel(n_jobs=-1)]: Done 1442 tasks      | elapsed: 17.9min\n",
      "[Parallel(n_jobs=-1)]: Done 1969 tasks      | elapsed: 26.7min\n",
      "[Parallel(n_jobs=-1)]: Done 2576 tasks      | elapsed: 42.6min\n",
      "[Parallel(n_jobs=-1)]: Done 3265 tasks      | elapsed: 57.2min\n",
      "[Parallel(n_jobs=-1)]: Done 4034 tasks      | elapsed: 81.8min\n",
      "[Parallel(n_jobs=-1)]: Done 4885 tasks      | elapsed: 117.6min\n",
      "[Parallel(n_jobs=-1)]: Done 5816 tasks      | elapsed: 150.6min\n",
      "[Parallel(n_jobs=-1)]: Done 6829 tasks      | elapsed: 197.5min\n",
      "[Parallel(n_jobs=-1)]: Done 7922 tasks      | elapsed: 256.7min\n",
      "[Parallel(n_jobs=-1)]: Done 9097 tasks      | elapsed: 322.3min\n",
      "[Parallel(n_jobs=-1)]: Done 10352 tasks      | elapsed: 392.5min\n",
      "[Parallel(n_jobs=-1)]: Done 11689 tasks      | elapsed: 466.7min\n",
      "[Parallel(n_jobs=-1)]: Done 12500 out of 12500 | elapsed: 526.6min finished\n"
     ]
    },
    {
     "data": {
      "text/plain": [
       "GridSearchCV(cv=5, estimator=RandomForestClassifier(random_state=30), n_jobs=-1,\n",
       "             param_grid=[{'max_depth': range(1, 11),\n",
       "                          'max_features': range(10, 110, 20),\n",
       "                          'max_leaf_nodes': range(5, 50, 10),\n",
       "                          'min_samples_leaf': range(5, 30, 5),\n",
       "                          'oob_score': [True, False], 'warm_start': [True]}],\n",
       "             scoring='recall', verbose=2)"
      ]
     },
     "execution_count": 15,
     "metadata": {},
     "output_type": "execute_result"
    }
   ],
   "source": [
    "gridsearch_rand_for.fit(X_train, y_train)"
   ]
  },
  {
   "cell_type": "code",
   "execution_count": 16,
   "metadata": {},
   "outputs": [
    {
     "data": {
      "text/plain": [
       "{'max_depth': 8,\n",
       " 'max_features': 90,\n",
       " 'max_leaf_nodes': 45,\n",
       " 'min_samples_leaf': 5,\n",
       " 'oob_score': True,\n",
       " 'warm_start': True}"
      ]
     },
     "execution_count": 16,
     "metadata": {},
     "output_type": "execute_result"
    }
   ],
   "source": [
    "gridsearch_rand_for.best_params_"
   ]
  },
  {
   "cell_type": "code",
   "execution_count": 17,
   "metadata": {
    "scrolled": true
   },
   "outputs": [
    {
     "data": {
      "text/plain": [
       "0.44581797791016875"
      ]
     },
     "execution_count": 17,
     "metadata": {},
     "output_type": "execute_result"
    }
   ],
   "source": [
    "gridsearch_rand_for.best_score_"
   ]
  },
  {
   "cell_type": "code",
   "execution_count": 19,
   "metadata": {},
   "outputs": [],
   "source": [
    "rand_for_grid_preds = gridsearch_rand_for.predict(X_test)"
   ]
  },
  {
   "cell_type": "code",
   "execution_count": 27,
   "metadata": {},
   "outputs": [
    {
     "name": "stdout",
     "output_type": "stream",
     "text": [
      "Training recall (random forest gridsearch):  0.44581797791016875\n",
      "Testing recall (random forest gridsearch):  0.4558187435633368\n"
     ]
    }
   ],
   "source": [
    "# checking recall\n",
    "print('Training recall (random forest gridsearch): ', gridsearch_rand_for.best_score_)\n",
    "\n",
    "# checking recall\n",
    "print('Testing recall (random forest gridsearch): ', recall_score(y_test, rand_for_grid_preds))"
   ]
  },
  {
   "cell_type": "markdown",
   "metadata": {},
   "source": [
    "Random forest is not doing a good job at predicting. Maybe a simpler decision tree will be better"
   ]
  },
  {
   "cell_type": "markdown",
   "metadata": {},
   "source": [
    "### Decision Tree"
   ]
  },
  {
   "cell_type": "code",
   "execution_count": 22,
   "metadata": {},
   "outputs": [],
   "source": [
    "from sklearn.tree import DecisionTreeClassifier"
   ]
  },
  {
   "cell_type": "code",
   "execution_count": 31,
   "metadata": {},
   "outputs": [
    {
     "data": {
      "text/plain": [
       "DecisionTreeClassifier(random_state=42)"
      ]
     },
     "execution_count": 31,
     "metadata": {},
     "output_type": "execute_result"
    }
   ],
   "source": [
    "tree = DecisionTreeClassifier(random_state = 42)\n",
    "tree.fit(X_train_base_scaled, y_train)"
   ]
  },
  {
   "cell_type": "code",
   "execution_count": 32,
   "metadata": {},
   "outputs": [],
   "source": [
    "tree_train_preds = tree.predict(X_train_base_scaled)\n",
    "tree_test_preds = tree.predict(X_test_base_scaled)"
   ]
  },
  {
   "cell_type": "code",
   "execution_count": 33,
   "metadata": {},
   "outputs": [
    {
     "name": "stdout",
     "output_type": "stream",
     "text": [
      "Training recall (decision tree):  1.0\n",
      "Testing recall (decision tree):  0.5462409886714727\n"
     ]
    }
   ],
   "source": [
    "# checking recall\n",
    "print('Training recall (decision tree): ', recall_score(y_train, tree_train_preds))\n",
    "\n",
    "# checking recall\n",
    "print('Testing recall (decision tree): ', recall_score(y_test, tree_test_preds))"
   ]
  },
  {
   "cell_type": "markdown",
   "metadata": {},
   "source": [
    "It is way overfit, so lets tune some hyperparams"
   ]
  },
  {
   "cell_type": "code",
   "execution_count": 29,
   "metadata": {},
   "outputs": [],
   "source": [
    "#define params\n",
    "params_tree = [{'max_depth': range(1,11), \n",
    "         'min_samples_leaf': range(1,30,5), \n",
    "         'max_features': range(10,110,20),\n",
    "         'max_leaf_nodes': range(5,50,10)\n",
    "        }]\n",
    "\n",
    "#initialize grid search\n",
    "gridsearch_tree = GridSearchCV(estimator=tree, \n",
    "                                      param_grid=params_tree, \n",
    "                                      scoring='recall', \n",
    "                                      cv=5,\n",
    "                                      n_jobs = -1,\n",
    "                                      verbose = 2\n",
    "                                     )"
   ]
  },
  {
   "cell_type": "code",
   "execution_count": 34,
   "metadata": {},
   "outputs": [
    {
     "name": "stdout",
     "output_type": "stream",
     "text": [
      "Fitting 5 folds for each of 1500 candidates, totalling 7500 fits\n"
     ]
    },
    {
     "name": "stderr",
     "output_type": "stream",
     "text": [
      "[Parallel(n_jobs=-1)]: Using backend LokyBackend with 8 concurrent workers.\n",
      "[Parallel(n_jobs=-1)]: Done  25 tasks      | elapsed:    2.5s\n",
      "[Parallel(n_jobs=-1)]: Done 146 tasks      | elapsed:    5.7s\n",
      "[Parallel(n_jobs=-1)]: Done 349 tasks      | elapsed:   11.1s\n",
      "[Parallel(n_jobs=-1)]: Done 632 tasks      | elapsed:   19.8s\n",
      "[Parallel(n_jobs=-1)]: Done 997 tasks      | elapsed:   31.1s\n",
      "[Parallel(n_jobs=-1)]: Done 1442 tasks      | elapsed:   48.7s\n",
      "[Parallel(n_jobs=-1)]: Done 1969 tasks      | elapsed:  1.1min\n",
      "[Parallel(n_jobs=-1)]: Done 2576 tasks      | elapsed:  1.6min\n",
      "[Parallel(n_jobs=-1)]: Done 3265 tasks      | elapsed:  2.2min\n",
      "[Parallel(n_jobs=-1)]: Done 4034 tasks      | elapsed:  3.0min\n",
      "[Parallel(n_jobs=-1)]: Done 4885 tasks      | elapsed:  3.8min\n",
      "[Parallel(n_jobs=-1)]: Done 5816 tasks      | elapsed:  4.9min\n",
      "[Parallel(n_jobs=-1)]: Done 6829 tasks      | elapsed:  6.1min\n",
      "[Parallel(n_jobs=-1)]: Done 7500 out of 7500 | elapsed:  6.8min finished\n"
     ]
    },
    {
     "data": {
      "text/plain": [
       "GridSearchCV(cv=5, estimator=DecisionTreeClassifier(random_state=42), n_jobs=-1,\n",
       "             param_grid=[{'max_depth': range(1, 11),\n",
       "                          'max_features': range(10, 110, 20),\n",
       "                          'max_leaf_nodes': range(5, 50, 10),\n",
       "                          'min_samples_leaf': range(1, 30, 5)}],\n",
       "             scoring='recall', verbose=2)"
      ]
     },
     "execution_count": 34,
     "metadata": {},
     "output_type": "execute_result"
    }
   ],
   "source": [
    "gridsearch_tree.fit(X_train_base_scaled,y_train)"
   ]
  },
  {
   "cell_type": "code",
   "execution_count": 35,
   "metadata": {},
   "outputs": [
    {
     "data": {
      "text/plain": [
       "{'max_depth': 1,\n",
       " 'max_features': 90,\n",
       " 'max_leaf_nodes': 5,\n",
       " 'min_samples_leaf': 1}"
      ]
     },
     "execution_count": 35,
     "metadata": {},
     "output_type": "execute_result"
    }
   ],
   "source": [
    "gridsearch_tree.best_params_"
   ]
  },
  {
   "cell_type": "code",
   "execution_count": 36,
   "metadata": {},
   "outputs": [
    {
     "data": {
      "text/plain": [
       "0.45894604180867227"
      ]
     },
     "execution_count": 36,
     "metadata": {},
     "output_type": "execute_result"
    }
   ],
   "source": [
    "gridsearch_tree.best_score_"
   ]
  },
  {
   "cell_type": "markdown",
   "metadata": {},
   "source": [
    "It appears that decision trees are having a difficulty with this classification. Let's see if XGBoost can do any better."
   ]
  },
  {
   "cell_type": "markdown",
   "metadata": {},
   "source": [
    "### XGBOOST"
   ]
  },
  {
   "cell_type": "code",
   "execution_count": 40,
   "metadata": {},
   "outputs": [],
   "source": [
    "import xgboost as xgb"
   ]
  },
  {
   "cell_type": "code",
   "execution_count": 61,
   "metadata": {},
   "outputs": [],
   "source": [
    "D_train = xgb.DMatrix(X_train, label = y_train)\n",
    "D_test = xgb.DMatrix(X_test, label = y_test)"
   ]
  },
  {
   "cell_type": "code",
   "execution_count": 62,
   "metadata": {},
   "outputs": [],
   "source": [
    "param_xg = {\n",
    "             'eta': 0.3,\n",
    "             'max_depth': 3,\n",
    "             'objective': 'binary:hinge',#'binary:logistic',\n",
    "}\n",
    "\n",
    "steps = 20"
   ]
  },
  {
   "cell_type": "code",
   "execution_count": 63,
   "metadata": {},
   "outputs": [],
   "source": [
    "xgboost = xgb.train(params = param_xg, dtrain = D_train, num_boost_round=steps)"
   ]
  },
  {
   "cell_type": "code",
   "execution_count": 64,
   "metadata": {},
   "outputs": [],
   "source": [
    "xgboost_train_preds = xgboost.predict(D_train)\n",
    "xgboost_test_preds = xgboost.predict(D_test)"
   ]
  },
  {
   "cell_type": "code",
   "execution_count": 66,
   "metadata": {},
   "outputs": [
    {
     "name": "stdout",
     "output_type": "stream",
     "text": [
      "Training recall (xgboost):  0.4461788324460886\n",
      "Testing recall (xgboost):  0.4537590113285273\n"
     ]
    }
   ],
   "source": [
    "# checking recall\n",
    "print('Training recall (xgboost): ', recall_score(y_train, xgboost_train_preds))\n",
    "\n",
    "# checking recall\n",
    "print('Testing recall (xgboost): ', recall_score(y_test, xgboost_test_preds))"
   ]
  },
  {
   "cell_type": "markdown",
   "metadata": {},
   "source": [
    "XGBoost isn't performing well either, perhaps this is an issue of multicollinearity. Let's get rid of some features and see how it performs."
   ]
  },
  {
   "cell_type": "markdown",
   "metadata": {},
   "source": [
    "### XGBOOST with feature selection"
   ]
  },
  {
   "cell_type": "code",
   "execution_count": 143,
   "metadata": {},
   "outputs": [
    {
     "data": {
      "text/plain": [
       "SelectKBest(k=60)"
      ]
     },
     "execution_count": 143,
     "metadata": {},
     "output_type": "execute_result"
    }
   ],
   "source": [
    "from sklearn.feature_selection import SelectKBest, f_classif\n",
    "selector2 = SelectKBest(f_classif, k=60)\n",
    "\n",
    "selector2.fit(X_train, y_train)"
   ]
  },
  {
   "cell_type": "code",
   "execution_count": 144,
   "metadata": {},
   "outputs": [],
   "source": [
    "selected_columns2 = X_train_base_scaled.columns[selector2.get_support()]\n",
    "removed_columns2 = X_train_base_scaled.columns[~selector2.get_support()]"
   ]
  },
  {
   "cell_type": "code",
   "execution_count": 145,
   "metadata": {},
   "outputs": [
    {
     "data": {
      "text/plain": [
       "Index(['MinTemp', 'MaxTemp', 'Rainfall', 'Evaporation', 'Sunshine',\n",
       "       'WindGustSpeed', 'WindSpeed9am', 'WindSpeed3pm', 'Humidity9am',\n",
       "       'Humidity3pm', 'Latitude', 'Avg_Pressure', 'Location_ALBANY',\n",
       "       'Location_ALICE SPRINGS AIRPORT', 'Location_CAIRNS AERO',\n",
       "       'Location_COBAR AIRPORT AWS', 'Location_DARTMOOR',\n",
       "       'Location_MILDURA AIRPORT', 'Location_MOREE AERO',\n",
       "       'Location_MOUNT GAMBIER AERO', 'Location_NORFOLK ISLAND AERO',\n",
       "       'Location_NORTH WALPOLE', 'Location_PORTLAND (CASHMORE AIRPORT)',\n",
       "       'Location_ULURU', 'Location_WOOMERA AERODROME', 'WindGustDir_ENE',\n",
       "       'WindGustDir_ESE', 'WindGustDir_NNW', 'WindGustDir_NW', 'WindGustDir_W',\n",
       "       'WindGustDir_WNW', 'WindDir9am_ESE', 'WindDir9am_N', 'WindDir9am_NNE',\n",
       "       'WindDir9am_NNW', 'WindDir9am_NW', 'WindDir9am_SE', 'WindDir9am_SSE',\n",
       "       'WindDir3pm_ESE', 'WindDir3pm_N', 'WindDir3pm_NNW', 'WindDir3pm_NW',\n",
       "       'WindDir3pm_WNW', 'Cloud9am_1', 'Cloud9am_2', 'Cloud9am_3',\n",
       "       'Cloud9am_4', 'Cloud9am_6', 'Cloud9am_7', 'Cloud9am_8', 'Cloud3pm_1',\n",
       "       'Cloud3pm_2', 'Cloud3pm_3', 'Cloud3pm_4', 'Cloud3pm_6', 'Cloud3pm_7',\n",
       "       'Cloud3pm_8', 'RainToday_1', 'Month_6', 'Month_7'],\n",
       "      dtype='object')"
      ]
     },
     "execution_count": 145,
     "metadata": {},
     "output_type": "execute_result"
    }
   ],
   "source": [
    "selected_columns2"
   ]
  },
  {
   "cell_type": "code",
   "execution_count": 146,
   "metadata": {},
   "outputs": [],
   "source": [
    "D_train_reduced = xgb.DMatrix(X_train[selected_columns2], label = y_train)\n",
    "D_test_reduced = xgb.DMatrix(X_test[selected_columns2], label = y_test)"
   ]
  },
  {
   "cell_type": "code",
   "execution_count": 147,
   "metadata": {},
   "outputs": [],
   "source": [
    "param_xg_reduced = {\n",
    "             'eta': 0.1,\n",
    "             'max_depth': 10,\n",
    "             'objective': 'binary:hinge',#'binary:logistic',\n",
    "             'eval_metric': 'map'\n",
    "}\n",
    "\n",
    "steps_reduced = 20"
   ]
  },
  {
   "cell_type": "code",
   "execution_count": 148,
   "metadata": {},
   "outputs": [],
   "source": [
    "xgboost_reduced = xgb.train(params = param_xg_reduced, dtrain = D_train_reduced, num_boost_round=steps_reduced)"
   ]
  },
  {
   "cell_type": "code",
   "execution_count": 149,
   "metadata": {},
   "outputs": [
    {
     "name": "stdout",
     "output_type": "stream",
     "text": [
      "Training recall (xgboost):  0.7027880537760535\n",
      "Testing recall (xgboost):  0.6129763130792997\n"
     ]
    }
   ],
   "source": [
    "xgboost_reduced_train_preds = xgboost_reduced.predict(D_train_reduced)\n",
    "xgboost_reduced_test_preds = xgboost_reduced.predict(D_test_reduced)\n",
    "\n",
    "# checking recall\n",
    "print('Training recall (xgboost): ', recall_score(y_train, xgboost_reduced_train_preds))\n",
    "\n",
    "# checking recall\n",
    "print('Testing recall (xgboost): ', recall_score(y_test, xgboost_reduced_test_preds))"
   ]
  },
  {
   "cell_type": "markdown",
   "metadata": {},
   "source": [
    "It still doesn't perform as well as the logistic regression. Tree based regressors are having trouble prediciting from this dataset. I think this is because the tree based regressors can't split on location in a significant way. The data is evenly distributed between the different weather stations. Consequently, we will use logistic regession for our final model."
   ]
  },
  {
   "cell_type": "markdown",
   "metadata": {},
   "source": [
    "---"
   ]
  },
  {
   "cell_type": "markdown",
   "metadata": {},
   "source": [
    "## Final Model"
   ]
  },
  {
   "cell_type": "markdown",
   "metadata": {},
   "source": [
    "### Scores"
   ]
  },
  {
   "cell_type": "code",
   "execution_count": 280,
   "metadata": {},
   "outputs": [
    {
     "name": "stdout",
     "output_type": "stream",
     "text": [
      "Testing recall (balanced l1 gridsearch LogReg):  0.7833161688980432\n",
      "Testing accuracy (balanced l1 gridsearch LogReg):  0.7936563752725226\n",
      "Testing precision (balanced l1 gridsearch LogReg):  0.5317393736017897\n"
     ]
    }
   ],
   "source": [
    "print('Testing recall (balanced l1 gridsearch LogReg): ', recall_score(y_test, balanced_grid_lr2_preds))\n",
    "print('Testing accuracy (balanced l1 gridsearch LogReg): ', accuracy_score(y_test, balanced_grid_lr2_preds))\n",
    "print('Testing precision (balanced l1 gridsearch LogReg): ', precision_score(y_test, balanced_grid_lr2_preds))"
   ]
  },
  {
   "cell_type": "markdown",
   "metadata": {},
   "source": [
    "These are the metrics of the final model. As you can see since we prioritized recall, our precision suffered."
   ]
  },
  {
   "cell_type": "code",
   "execution_count": 275,
   "metadata": {
    "scrolled": true
   },
   "outputs": [
    {
     "data": {
      "image/png": "[encoded data removed]",
      "text/plain": [
       "<Figure size 432x288 with 2 Axes>"
      ]
     },
     "metadata": {},
     "output_type": "display_data"
    }
   ],
   "source": [
    "from sklearn.metrics import plot_confusion_matrix\n",
    "\n",
    "plot_confusion_matrix(gridsearch_balanced_lr2.best_estimator_, X_test_base_scaled[selected_columns], y_test, cmap = 'Greys', normalize='all')\n",
    "plt.title('Confusion Matrix (Normalized)')\n",
    "plt.savefig('confusion_matrix.png', bbox = 'tight')"
   ]
  },
  {
   "cell_type": "markdown",
   "metadata": {},
   "source": [
    "This is even more apparent in the confusion matrix. We had a false positive 16% of the time compared to a false positive 5% of the time."
   ]
  },
  {
   "cell_type": "markdown",
   "metadata": {},
   "source": [
    "### Interpretation"
   ]
  },
  {
   "cell_type": "code",
   "execution_count": 244,
   "metadata": {},
   "outputs": [],
   "source": [
    "coef_df = pd.DataFrame(list(zip(selected_columns,gridsearch_balanced_lr2.best_estimator_.coef_[0])), columns = ['Feature', 'Coefficient'])"
   ]
  },
  {
   "cell_type": "code",
   "execution_count": 245,
   "metadata": {},
   "outputs": [],
   "source": [
    "coef_df['coef_abs'] = coef_df['Coefficient'].apply(lambda x: abs(x))\n",
    "coef_df['positive'] = coef_df['Coefficient'] > 0\n",
    "coef_df.set_index('Feature', inplace = True)"
   ]
  },
  {
   "cell_type": "code",
   "execution_count": 266,
   "metadata": {
    "scrolled": false
   },
   "outputs": [
    {
     "data": {
      "image/png": "[encoded data removed]",
      "text/plain": [
       "<Figure size 864x576 with 1 Axes>"
      ]
     },
     "metadata": {},
     "output_type": "display_data"
    }
   ],
   "source": [
    "plt.style.use('fivethirtyeight')\n",
    "sns.set_style('white')\n",
    "fig, ax = plt.subplots(figsize = (12,8))\n",
    "coef_df.sort_values(by = 'coef_abs', ascending = False).head(20).sort_values(by = 'Coefficient')['Coefficient'].plot(kind = 'bar', ax = ax)\n",
    "ax.set_ylim(-2.5,2.5)\n",
    "ax.set_title('Most Important Features')\n",
    "ax.set_ylabel('Coefficient')\n",
    "ax.set_xlabel('Feature')\n",
    "plt.tight_layout()\n",
    "fig.savefig('most_important_features.png', bbox = 'tight')"
   ]
  },
  {
   "cell_type": "markdown",
   "metadata": {},
   "source": [
    "Cloud cover at 3pm, wind direction, and location are important features to prediction. Let's see why those locations were negatively correlated to rain tomorrow."
   ]
  },
  {
   "cell_type": "code",
   "execution_count": 263,
   "metadata": {},
   "outputs": [],
   "source": [
    "important_feature_location = {                           \n",
    " 'RICHMOND AIRPORT': {'Lat': -20.7017, 'Lon': 143.1167},                   \n",
    " 'WILLIAMTOWN RAAF': {'Lat': -32.7939, 'Lon': 151.8364},                         \n",
    " 'CAIRNS AERO': {'Lat': -16.8736, 'Lon': 145.7458},\n",
    " 'TOWNSVILLE AERO': {'Lat': -19.2483, 'Lon': 146.7661},                              \n",
    " 'WOOMERA AERODROME': {'Lat': -31.1558, 'Lon': 136.8054},\n",
    " 'ALICE SPRINGS AIRPORT': {'Lat': -23.7951, 'Lon': 133.889},\n",
    " 'DARWIN AIRPORT': {'Lat': -12.4239, 'Lon': 130.8925},                        \n",
    " 'KATHERINE COUNTRY CLUB': {'Lat': -14.4728, 'Lon': 132.2612},\n",
    " 'ULURU': {'Lat': -25.3444, 'Lon': 131.0369}}"
   ]
  },
  {
   "cell_type": "code",
   "execution_count": 281,
   "metadata": {
    "scrolled": false
   },
   "outputs": [
    {
     "data": {
      "text/html": [
       "<div style=\"width:100%;\"><div style=\"position:relative;width:100%;height:0;padding-bottom:60%;\"><span style=\"color:#565656\">Make this Notebook Trusted to load map: File -> Trust Notebook</span><iframe src=\"about:blank\" style=\"position:absolute;width:100%;height:100%;left:0;top:0;border:none !important;\" data-html=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 onload=\"this.contentDocument.open();this.contentDocument.write(atob(this.getAttribute('data-html')));this.contentDocument.close();\" allowfullscreen webkitallowfullscreen mozallowfullscreen></iframe></div></div>"
      ],
      "text/plain": [
       "<folium.folium.Map at 0x7f8f9dfe4dc0>"
      ]
     },
     "execution_count": 281,
     "metadata": {},
     "output_type": "execute_result"
    }
   ],
   "source": [
    "m2=folium.Map(location=[-25.2744, 133.7751],tiles='cartodbpositron',zoom_start=4)\n",
    "\n",
    "\n",
    "# Adding Custom Markers\n",
    "for key, value in important_feature_location.items():\n",
    "    folium.Marker(location=[value['Lat'], value['Lon']],popup=f'Lat:{value[\"Lat\"]} Lon:{value[\"Lon\"]}',tooltip=key,icon=folium.Icon(color='blue',icon='none')).add_to(m2)\n",
    "\n",
    "m2"
   ]
  },
  {
   "cell_type": "markdown",
   "metadata": {},
   "source": [
    "With exception to the south east weather station, the locations that are negatively correlated are father inland or more protected from the open water. Especially, when paired with wind direction in the NNW direction being a strong predictor of rain. Consequently, storms most likely come from the SSE direction and most of the negatively correlated locations are situated in the opposite side of Austrailia away from where the storms come in."
   ]
  },
  {
   "cell_type": "markdown",
   "metadata": {},
   "source": [
    "## Conclusion"
   ]
  },
  {
   "cell_type": "markdown",
   "metadata": {},
   "source": [
    "Based on the analysis, I recommend including a predictive feature in residential irrigation systems. The final model could reduce ~80% of wasted water from watering before it rains. It would be better to market the product toward conservation/environment focused consumers. The model would only save consumers ~$150 annually. Conequently, I believe the water conservation would be a bigger draw for customers rather than the financial benefits.\n",
    "\n",
    "Finally, I recommend approaching city officials to make rain prediction required on all irrigation systems. This would increase the impact of water conservation and benefit cities as whole."
   ]
  },
  {
   "cell_type": "markdown",
   "metadata": {},
   "source": [
    "## Further Steps"
   ]
  },
  {
   "cell_type": "markdown",
   "metadata": {},
   "source": [
    "Some additional steps I would like to explore are as follows:\n",
    "\n",
    "-Build model for residential use<br>\n",
    "-Predict farther in the future<br>\n",
    "-Utilize ‘neighboring’ predictions in a pseudo voting classifier model"
   ]
  }
 ],
 "metadata": {
  "kernelspec": {
   "display_name": "Python 3",
   "language": "python",
   "name": "python3"
  },
  "language_info": {
   "codemirror_mode": {
    "name": "ipython",
    "version": 3
   },
   "file_extension": ".py",
   "mimetype": "text/x-python",
   "name": "python",
   "nbconvert_exporter": "python",
   "pygments_lexer": "ipython3",
   "version": "3.8.3"
  }
 },
 "nbformat": 4,
 "nbformat_minor": 2
}
